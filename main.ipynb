{
 "cells": [
  {
   "cell_type": "code",
   "execution_count": 1,
   "metadata": {},
   "outputs": [],
   "source": [
    "#Import all necessary libraries\n",
    "import pandas as pd\n",
    "import numpy as np\n",
    "import matplotlib.pyplot as plt"
   ]
  },
  {
   "cell_type": "code",
   "execution_count": 2,
   "metadata": {},
   "outputs": [],
   "source": [
    "# Import the dataset\n",
    "marketing = pd.read_csv('dataset/marketing.csv')"
   ]
  },
  {
   "cell_type": "code",
   "execution_count": 3,
   "metadata": {},
   "outputs": [
    {
     "name": "stdout",
     "output_type": "stream",
     "text": [
      "datetime64[ns]\n"
     ]
    }
   ],
   "source": [
    "# The normal parse_dates parameter does not work for this dataset\n",
    "# Instead, we will use the following code to convert the date columns to datetime\n",
    "date_time = ['date_served', 'date_subscribed', 'date_canceled']\n",
    "for i in date_time:\n",
    "    marketing[i] = pd.to_datetime(marketing[i])\n",
    "\n",
    "print(marketing['date_served'].dtype)"
   ]
  },
  {
   "attachments": {},
   "cell_type": "markdown",
   "metadata": {},
   "source": [
    "## Examining the data"
   ]
  },
  {
   "cell_type": "code",
   "execution_count": 4,
   "metadata": {},
   "outputs": [
    {
     "data": {
      "text/html": [
       "<div>\n",
       "<style scoped>\n",
       "    .dataframe tbody tr th:only-of-type {\n",
       "        vertical-align: middle;\n",
       "    }\n",
       "\n",
       "    .dataframe tbody tr th {\n",
       "        vertical-align: top;\n",
       "    }\n",
       "\n",
       "    .dataframe thead th {\n",
       "        text-align: right;\n",
       "    }\n",
       "</style>\n",
       "<table border=\"1\" class=\"dataframe\">\n",
       "  <thead>\n",
       "    <tr style=\"text-align: right;\">\n",
       "      <th></th>\n",
       "      <th>user_id</th>\n",
       "      <th>date_served</th>\n",
       "      <th>marketing_channel</th>\n",
       "      <th>variant</th>\n",
       "      <th>converted</th>\n",
       "      <th>language_displayed</th>\n",
       "      <th>language_preferred</th>\n",
       "      <th>age_group</th>\n",
       "      <th>date_subscribed</th>\n",
       "      <th>date_canceled</th>\n",
       "      <th>subscribing_channel</th>\n",
       "      <th>is_retained</th>\n",
       "    </tr>\n",
       "  </thead>\n",
       "  <tbody>\n",
       "    <tr>\n",
       "      <th>0</th>\n",
       "      <td>a100000029</td>\n",
       "      <td>2018-01-01</td>\n",
       "      <td>House Ads</td>\n",
       "      <td>personalization</td>\n",
       "      <td>True</td>\n",
       "      <td>English</td>\n",
       "      <td>English</td>\n",
       "      <td>0-18 years</td>\n",
       "      <td>2018-01-01</td>\n",
       "      <td>NaT</td>\n",
       "      <td>House Ads</td>\n",
       "      <td>True</td>\n",
       "    </tr>\n",
       "    <tr>\n",
       "      <th>1</th>\n",
       "      <td>a100000030</td>\n",
       "      <td>2018-01-01</td>\n",
       "      <td>House Ads</td>\n",
       "      <td>personalization</td>\n",
       "      <td>True</td>\n",
       "      <td>English</td>\n",
       "      <td>English</td>\n",
       "      <td>19-24 years</td>\n",
       "      <td>2018-01-01</td>\n",
       "      <td>NaT</td>\n",
       "      <td>House Ads</td>\n",
       "      <td>True</td>\n",
       "    </tr>\n",
       "    <tr>\n",
       "      <th>2</th>\n",
       "      <td>a100000031</td>\n",
       "      <td>2018-01-01</td>\n",
       "      <td>House Ads</td>\n",
       "      <td>personalization</td>\n",
       "      <td>True</td>\n",
       "      <td>English</td>\n",
       "      <td>English</td>\n",
       "      <td>24-30 years</td>\n",
       "      <td>2018-01-01</td>\n",
       "      <td>NaT</td>\n",
       "      <td>House Ads</td>\n",
       "      <td>True</td>\n",
       "    </tr>\n",
       "    <tr>\n",
       "      <th>3</th>\n",
       "      <td>a100000032</td>\n",
       "      <td>2018-01-01</td>\n",
       "      <td>House Ads</td>\n",
       "      <td>personalization</td>\n",
       "      <td>True</td>\n",
       "      <td>English</td>\n",
       "      <td>English</td>\n",
       "      <td>30-36 years</td>\n",
       "      <td>2018-01-01</td>\n",
       "      <td>NaT</td>\n",
       "      <td>House Ads</td>\n",
       "      <td>True</td>\n",
       "    </tr>\n",
       "    <tr>\n",
       "      <th>4</th>\n",
       "      <td>a100000033</td>\n",
       "      <td>2018-01-01</td>\n",
       "      <td>House Ads</td>\n",
       "      <td>personalization</td>\n",
       "      <td>True</td>\n",
       "      <td>English</td>\n",
       "      <td>English</td>\n",
       "      <td>36-45 years</td>\n",
       "      <td>2018-01-01</td>\n",
       "      <td>NaT</td>\n",
       "      <td>House Ads</td>\n",
       "      <td>True</td>\n",
       "    </tr>\n",
       "  </tbody>\n",
       "</table>\n",
       "</div>"
      ],
      "text/plain": [
       "      user_id date_served marketing_channel          variant converted  \\\n",
       "0  a100000029  2018-01-01         House Ads  personalization      True   \n",
       "1  a100000030  2018-01-01         House Ads  personalization      True   \n",
       "2  a100000031  2018-01-01         House Ads  personalization      True   \n",
       "3  a100000032  2018-01-01         House Ads  personalization      True   \n",
       "4  a100000033  2018-01-01         House Ads  personalization      True   \n",
       "\n",
       "  language_displayed language_preferred    age_group date_subscribed  \\\n",
       "0            English            English   0-18 years      2018-01-01   \n",
       "1            English            English  19-24 years      2018-01-01   \n",
       "2            English            English  24-30 years      2018-01-01   \n",
       "3            English            English  30-36 years      2018-01-01   \n",
       "4            English            English  36-45 years      2018-01-01   \n",
       "\n",
       "  date_canceled subscribing_channel is_retained  \n",
       "0           NaT           House Ads        True  \n",
       "1           NaT           House Ads        True  \n",
       "2           NaT           House Ads        True  \n",
       "3           NaT           House Ads        True  \n",
       "4           NaT           House Ads        True  "
      ]
     },
     "execution_count": 4,
     "metadata": {},
     "output_type": "execute_result"
    }
   ],
   "source": [
    "# Print the first five rows of the DataFrame\n",
    "marketing.head()"
   ]
  },
  {
   "cell_type": "code",
   "execution_count": 5,
   "metadata": {},
   "outputs": [
    {
     "name": "stderr",
     "output_type": "stream",
     "text": [
      "C:\\Users\\Shannon\\AppData\\Local\\Temp\\ipykernel_19724\\4247376042.py:2: FutureWarning: Treating datetime data as categorical rather than numeric in `.describe` is deprecated and will be removed in a future version of pandas. Specify `datetime_is_numeric=True` to silence this warning and adopt the future behavior now.\n",
      "  marketing.describe()\n",
      "C:\\Users\\Shannon\\AppData\\Local\\Temp\\ipykernel_19724\\4247376042.py:2: FutureWarning: Treating datetime data as categorical rather than numeric in `.describe` is deprecated and will be removed in a future version of pandas. Specify `datetime_is_numeric=True` to silence this warning and adopt the future behavior now.\n",
      "  marketing.describe()\n",
      "C:\\Users\\Shannon\\AppData\\Local\\Temp\\ipykernel_19724\\4247376042.py:2: FutureWarning: Treating datetime data as categorical rather than numeric in `.describe` is deprecated and will be removed in a future version of pandas. Specify `datetime_is_numeric=True` to silence this warning and adopt the future behavior now.\n",
      "  marketing.describe()\n"
     ]
    },
    {
     "data": {
      "text/html": [
       "<div>\n",
       "<style scoped>\n",
       "    .dataframe tbody tr th:only-of-type {\n",
       "        vertical-align: middle;\n",
       "    }\n",
       "\n",
       "    .dataframe tbody tr th {\n",
       "        vertical-align: top;\n",
       "    }\n",
       "\n",
       "    .dataframe thead th {\n",
       "        text-align: right;\n",
       "    }\n",
       "</style>\n",
       "<table border=\"1\" class=\"dataframe\">\n",
       "  <thead>\n",
       "    <tr style=\"text-align: right;\">\n",
       "      <th></th>\n",
       "      <th>user_id</th>\n",
       "      <th>date_served</th>\n",
       "      <th>marketing_channel</th>\n",
       "      <th>variant</th>\n",
       "      <th>converted</th>\n",
       "      <th>language_displayed</th>\n",
       "      <th>language_preferred</th>\n",
       "      <th>age_group</th>\n",
       "      <th>date_subscribed</th>\n",
       "      <th>date_canceled</th>\n",
       "      <th>subscribing_channel</th>\n",
       "      <th>is_retained</th>\n",
       "    </tr>\n",
       "  </thead>\n",
       "  <tbody>\n",
       "    <tr>\n",
       "      <th>count</th>\n",
       "      <td>10037</td>\n",
       "      <td>10021</td>\n",
       "      <td>10022</td>\n",
       "      <td>10037</td>\n",
       "      <td>10022</td>\n",
       "      <td>10037</td>\n",
       "      <td>10037</td>\n",
       "      <td>10037</td>\n",
       "      <td>1856</td>\n",
       "      <td>577</td>\n",
       "      <td>1856</td>\n",
       "      <td>1856</td>\n",
       "    </tr>\n",
       "    <tr>\n",
       "      <th>unique</th>\n",
       "      <td>7309</td>\n",
       "      <td>31</td>\n",
       "      <td>5</td>\n",
       "      <td>2</td>\n",
       "      <td>2</td>\n",
       "      <td>4</td>\n",
       "      <td>4</td>\n",
       "      <td>7</td>\n",
       "      <td>31</td>\n",
       "      <td>115</td>\n",
       "      <td>5</td>\n",
       "      <td>2</td>\n",
       "    </tr>\n",
       "    <tr>\n",
       "      <th>top</th>\n",
       "      <td>a100000882</td>\n",
       "      <td>2018-01-15 00:00:00</td>\n",
       "      <td>House Ads</td>\n",
       "      <td>control</td>\n",
       "      <td>False</td>\n",
       "      <td>English</td>\n",
       "      <td>English</td>\n",
       "      <td>19-24 years</td>\n",
       "      <td>2018-01-16 00:00:00</td>\n",
       "      <td>2018-04-02 00:00:00</td>\n",
       "      <td>Instagram</td>\n",
       "      <td>True</td>\n",
       "    </tr>\n",
       "    <tr>\n",
       "      <th>freq</th>\n",
       "      <td>12</td>\n",
       "      <td>789</td>\n",
       "      <td>4733</td>\n",
       "      <td>5091</td>\n",
       "      <td>8946</td>\n",
       "      <td>9793</td>\n",
       "      <td>9275</td>\n",
       "      <td>1682</td>\n",
       "      <td>163</td>\n",
       "      <td>15</td>\n",
       "      <td>600</td>\n",
       "      <td>1279</td>\n",
       "    </tr>\n",
       "    <tr>\n",
       "      <th>first</th>\n",
       "      <td>NaN</td>\n",
       "      <td>2018-01-01 00:00:00</td>\n",
       "      <td>NaN</td>\n",
       "      <td>NaN</td>\n",
       "      <td>NaN</td>\n",
       "      <td>NaN</td>\n",
       "      <td>NaN</td>\n",
       "      <td>NaN</td>\n",
       "      <td>2018-01-01 00:00:00</td>\n",
       "      <td>2018-01-05 00:00:00</td>\n",
       "      <td>NaN</td>\n",
       "      <td>NaN</td>\n",
       "    </tr>\n",
       "    <tr>\n",
       "      <th>last</th>\n",
       "      <td>NaN</td>\n",
       "      <td>2018-01-31 00:00:00</td>\n",
       "      <td>NaN</td>\n",
       "      <td>NaN</td>\n",
       "      <td>NaN</td>\n",
       "      <td>NaN</td>\n",
       "      <td>NaN</td>\n",
       "      <td>NaN</td>\n",
       "      <td>2018-01-31 00:00:00</td>\n",
       "      <td>2018-05-09 00:00:00</td>\n",
       "      <td>NaN</td>\n",
       "      <td>NaN</td>\n",
       "    </tr>\n",
       "  </tbody>\n",
       "</table>\n",
       "</div>"
      ],
      "text/plain": [
       "           user_id          date_served marketing_channel  variant converted  \\\n",
       "count        10037                10021             10022    10037     10022   \n",
       "unique        7309                   31                 5        2         2   \n",
       "top     a100000882  2018-01-15 00:00:00         House Ads  control     False   \n",
       "freq            12                  789              4733     5091      8946   \n",
       "first          NaN  2018-01-01 00:00:00               NaN      NaN       NaN   \n",
       "last           NaN  2018-01-31 00:00:00               NaN      NaN       NaN   \n",
       "\n",
       "       language_displayed language_preferred    age_group  \\\n",
       "count               10037              10037        10037   \n",
       "unique                  4                  4            7   \n",
       "top               English            English  19-24 years   \n",
       "freq                 9793               9275         1682   \n",
       "first                 NaN                NaN          NaN   \n",
       "last                  NaN                NaN          NaN   \n",
       "\n",
       "            date_subscribed        date_canceled subscribing_channel  \\\n",
       "count                  1856                  577                1856   \n",
       "unique                   31                  115                   5   \n",
       "top     2018-01-16 00:00:00  2018-04-02 00:00:00           Instagram   \n",
       "freq                    163                   15                 600   \n",
       "first   2018-01-01 00:00:00  2018-01-05 00:00:00                 NaN   \n",
       "last    2018-01-31 00:00:00  2018-05-09 00:00:00                 NaN   \n",
       "\n",
       "       is_retained  \n",
       "count         1856  \n",
       "unique           2  \n",
       "top           True  \n",
       "freq          1279  \n",
       "first          NaN  \n",
       "last           NaN  "
      ]
     },
     "execution_count": 5,
     "metadata": {},
     "output_type": "execute_result"
    }
   ],
   "source": [
    "# Print the statistics of all columns\n",
    "marketing.describe()"
   ]
  },
  {
   "cell_type": "code",
   "execution_count": 6,
   "metadata": {},
   "outputs": [
    {
     "name": "stdout",
     "output_type": "stream",
     "text": [
      "<class 'pandas.core.frame.DataFrame'>\n",
      "RangeIndex: 10037 entries, 0 to 10036\n",
      "Data columns (total 12 columns):\n",
      " #   Column               Non-Null Count  Dtype         \n",
      "---  ------               --------------  -----         \n",
      " 0   user_id              10037 non-null  object        \n",
      " 1   date_served          10021 non-null  datetime64[ns]\n",
      " 2   marketing_channel    10022 non-null  object        \n",
      " 3   variant              10037 non-null  object        \n",
      " 4   converted            10022 non-null  object        \n",
      " 5   language_displayed   10037 non-null  object        \n",
      " 6   language_preferred   10037 non-null  object        \n",
      " 7   age_group            10037 non-null  object        \n",
      " 8   date_subscribed      1856 non-null   datetime64[ns]\n",
      " 9   date_canceled        577 non-null    datetime64[ns]\n",
      " 10  subscribing_channel  1856 non-null   object        \n",
      " 11  is_retained          1856 non-null   object        \n",
      "dtypes: datetime64[ns](3), object(9)\n",
      "memory usage: 941.1+ KB\n"
     ]
    }
   ],
   "source": [
    "# Check column data types and non-missing values\n",
    "marketing.info()"
   ]
  },
  {
   "attachments": {},
   "cell_type": "markdown",
   "metadata": {},
   "source": [
    "## Updating the data type of a column"
   ]
  },
  {
   "cell_type": "code",
   "execution_count": 7,
   "metadata": {},
   "outputs": [
    {
     "name": "stdout",
     "output_type": "stream",
     "text": [
      "object\n"
     ]
    }
   ],
   "source": [
    "# Check the data type of is_retained\n",
    "print(marketing['is_retained'].dtype)"
   ]
  },
  {
   "cell_type": "code",
   "execution_count": 8,
   "metadata": {},
   "outputs": [
    {
     "name": "stdout",
     "output_type": "stream",
     "text": [
      "bool\n"
     ]
    }
   ],
   "source": [
    "# Convert is_retained to a boolean\n",
    "marketing['is_retained'] = marketing['is_retained'].astype('bool')\n",
    "# Check the data type of is_retained, again\n",
    "print(marketing['is_retained'].dtype)"
   ]
  },
  {
   "attachments": {},
   "cell_type": "markdown",
   "metadata": {},
   "source": [
    "## Adding new columns"
   ]
  },
  {
   "cell_type": "code",
   "execution_count": 9,
   "metadata": {},
   "outputs": [],
   "source": [
    "# Mapping for channels\n",
    "channel_dict = {'House Ads': 1, 'Instagram': 2, 'Facebook': 3, 'Email': 4, 'Push': 5}\n",
    "\n",
    "# Map the channel to a channel code\n",
    "marketing['channel_code'] = marketing['subscribing_channel'].map(channel_dict)"
   ]
  },
  {
   "cell_type": "code",
   "execution_count": 10,
   "metadata": {},
   "outputs": [],
   "source": [
    "# Add the new column is_correct_lang\n",
    "marketing['is_correct_lang'] = np.where(\n",
    "    marketing['language_displayed'] == marketing['language_preferred'],\n",
    "    \"Yes\", \"No\"\n",
    "    )"
   ]
  },
  {
   "cell_type": "code",
   "execution_count": 11,
   "metadata": {},
   "outputs": [],
   "source": [
    "marketing['DoW'] = marketing['date_subscribed'].dt.dayofweek"
   ]
  },
  {
   "attachments": {},
   "cell_type": "markdown",
   "metadata": {},
   "source": [
    "## Daily marketing reach by channel"
   ]
  },
  {
   "cell_type": "code",
   "execution_count": 12,
   "metadata": {},
   "outputs": [
    {
     "data": {
      "text/plain": [
       "date_served\n",
       "2018-01-01    362\n",
       "2018-01-02    374\n",
       "2018-01-03    348\n",
       "2018-01-04    323\n",
       "2018-01-05    319\n",
       "Name: user_id, dtype: int64"
      ]
     },
     "execution_count": 12,
     "metadata": {},
     "output_type": "execute_result"
    }
   ],
   "source": [
    "# Group by date_served and count number of unique user_id's\n",
    "daily_users = marketing.groupby(['date_served'])['user_id'].nunique()\n",
    "daily_users.head()"
   ]
  },
  {
   "attachments": {},
   "cell_type": "markdown",
   "metadata": {},
   "source": [
    "## Visualizing daily marketing reach"
   ]
  },
  {
   "cell_type": "code",
   "execution_count": 13,
   "metadata": {},
   "outputs": [
    {
     "data": {
      "image/png": "[encoded data removed]",
      "text/plain": [
       "<Figure size 640x480 with 1 Axes>"
      ]
     },
     "metadata": {},
     "output_type": "display_data"
    }
   ],
   "source": [
    "# Plot daily_subscribers\n",
    "daily_users.plot()\n",
    "\n",
    "plt.title('Daily users')\n",
    "plt.xlabel('Date')\n",
    "plt.ylabel('Number of users')\n",
    "\n",
    "plt.xticks(rotation=45)\n",
    "\n",
    "plt.show()"
   ]
  },
  {
   "attachments": {},
   "cell_type": "markdown",
   "metadata": {},
   "source": [
    "## Calculating conversion rate"
   ]
  },
  {
   "cell_type": "code",
   "execution_count": 14,
   "metadata": {},
   "outputs": [
    {
     "name": "stdout",
     "output_type": "stream",
     "text": [
      "13.89 %\n"
     ]
    }
   ],
   "source": [
    "# Calculate the number of people marketed to\n",
    "total = marketing['user_id'].nunique()\n",
    "\n",
    "# Calculate the number of people who subscribed\n",
    "subscribers = marketing[marketing['converted']==True]['user_id'].nunique()\n",
    "\n",
    "# Conversion rate\n",
    "conversion_rate = subscribers/total\n",
    "\n",
    "print(round(conversion_rate*100, 2),'%')"
   ]
  },
  {
   "attachments": {},
   "cell_type": "markdown",
   "metadata": {},
   "source": [
    "## Calculating Retention Rate"
   ]
  },
  {
   "cell_type": "code",
   "execution_count": 15,
   "metadata": {},
   "outputs": [
    {
     "name": "stdout",
     "output_type": "stream",
     "text": [
      "67.09 %\n"
     ]
    }
   ],
   "source": [
    "# Calculate the number of subscribers\n",
    "total_subscribers = marketing[marketing['converted']==True]['user_id'].nunique()\n",
    "\n",
    "# Calculate the number of people who remainded subscribed\n",
    "retained = marketing[(marketing['is_retained']==True)&(marketing['converted']==True)]['user_id'].nunique()\n",
    "\n",
    "# Calulate the retention rate\n",
    "retention_rate = retained/total_subscribers\n",
    "\n",
    "print(round(retention_rate*100, 2), '%')"
   ]
  },
  {
   "attachments": {},
   "cell_type": "markdown",
   "metadata": {},
   "source": [
    "## Comparing language conversion rate "
   ]
  },
  {
   "cell_type": "code",
   "execution_count": 16,
   "metadata": {},
   "outputs": [
    {
     "name": "stdout",
     "output_type": "stream",
     "text": [
      "English Speaker Conversion Rate: 13.25 %\n"
     ]
    }
   ],
   "source": [
    "# Isolate English Speakers\n",
    "english_speakers = marketing[marketing['language_preferred']=='English']\n",
    "\n",
    "# Total number of English Speakers\n",
    "total = english_speakers['user_id'].nunique()\n",
    "\n",
    "# Number of english speakers who converted\n",
    "subscribers = english_speakers[english_speakers['converted']==True]['user_id'].nunique()\n",
    "\n",
    "# Conversion rate\n",
    "conversion_rate = subscribers/total\n",
    "\n",
    "print('English Speaker Conversion Rate:',round(conversion_rate*100, 2),'%')"
   ]
  },
  {
   "cell_type": "code",
   "execution_count": 18,
   "metadata": {},
   "outputs": [
    {
     "data": {
      "text/plain": [
       "language_displayed\n",
       "Arabic     0.500000\n",
       "English    0.129167\n",
       "German     0.716216\n",
       "Spanish    0.200000\n",
       "Name: user_id, dtype: float64"
      ]
     },
     "execution_count": 18,
     "metadata": {},
     "output_type": "execute_result"
    }
   ],
   "source": [
    "# Group by language displayer and count unique users\n",
    "total = marketing.groupby(['language_displayed'])['user_id'].nunique()\n",
    "\n",
    "#Group by language displayer and count unique converison\n",
    "subscribers = marketing[marketing['converted']==True].groupby(['language_displayed'])['user_id'].nunique()\n",
    "\n",
    "#Conversion rate\n",
    "language_conversion_rate = subscribers/total\n",
    "language_conversion_rate"
   ]
  },
  {
   "attachments": {},
   "cell_type": "markdown",
   "metadata": {},
   "source": [
    "## Aggregating by date"
   ]
  },
  {
   "cell_type": "code",
   "execution_count": 22,
   "metadata": {},
   "outputs": [],
   "source": [
    "# Group by date_served and coutn unique users\n",
    "total = marketing.groupby(['date_served'])['user_id'].nunique()\n",
    "\n",
    "# Group by date served and count unique converted users\n",
    "subscribers = marketing[marketing['converted']==True].groupby(['date_served'])['user_id'].nunique()\n",
    "\n",
    "# Calculate the conversion rate\n",
    "daily_conversion_rate = subscribers/total\n",
    "daily_conversion_rate = daily_conversion_rate*100"
   ]
  },
  {
   "cell_type": "code",
   "execution_count": 23,
   "metadata": {},
   "outputs": [
    {
     "data": {
      "text/plain": [
       "<Axes: xlabel='date_served'>"
      ]
     },
     "execution_count": 23,
     "metadata": {},
     "output_type": "execute_result"
    },
    {
     "data": {
      "image/png": "[encoded data removed]",
      "text/plain": [
       "<Figure size 640x480 with 1 Axes>"
      ]
     },
     "metadata": {},
     "output_type": "display_data"
    }
   ],
   "source": [
    "daily_conversion_rate.plot()"
   ]
  },
  {
   "cell_type": "code",
   "execution_count": null,
   "metadata": {},
   "outputs": [],
   "source": []
  },
  {
   "cell_type": "code",
   "execution_count": null,
   "metadata": {},
   "outputs": [],
   "source": []
  }
 ],
 "metadata": {
  "kernelspec": {
   "display_name": "venv",
   "language": "python",
   "name": "python3"
  },
  "language_info": {
   "codemirror_mode": {
    "name": "ipython",
    "version": 3
   },
   "file_extension": ".py",
   "mimetype": "text/x-python",
   "name": "python",
   "nbconvert_exporter": "python",
   "pygments_lexer": "ipython3",
   "version": "3.10.7"
  },
  "orig_nbformat": 4
 },
 "nbformat": 4,
 "nbformat_minor": 2
}
